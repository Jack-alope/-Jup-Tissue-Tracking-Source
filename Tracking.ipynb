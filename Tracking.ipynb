{
 "cells": [
  {
   "cell_type": "code",
   "execution_count": 1,
   "metadata": {},
   "outputs": [],
   "source": [
    "import IPython\n",
    "import matplotlib.pyplot as plt\n",
    "import IPython.display as Disp\n",
    "from ipywidgets import widgets\n",
    "import numpy as np\n",
    "import cv2\n",
    "import plotly.graph_objects as go\n",
    "from ipywidgets import interact, interactive\n",
    "import glob\n",
    "\n",
    "%matplotlib widget"
   ]
  },
  {
   "cell_type": "code",
   "execution_count": 2,
   "metadata": {},
   "outputs": [
    {
     "data": {
      "application/vnd.jupyter.widget-view+json": {
       "model_id": "5fb95338fb4644318aece5d3b6866e69",
       "version_major": 2,
       "version_minor": 0
      },
      "text/plain": [
       "Output()"
      ]
     },
     "metadata": {},
     "output_type": "display_data"
    }
   ],
   "source": [
    "button = widgets.Button(description=\"Start Iterations\")\n",
    "output_box = widgets.Output()\n",
    "display(output_box)"
   ]
  },
  {
   "cell_type": "code",
   "execution_count": 3,
   "metadata": {
    "scrolled": true
   },
   "outputs": [
    {
     "name": "stdout",
     "output_type": "stream",
     "text": [
      "Tracking Dashboard\n"
     ]
    }
   ],
   "source": [
    "print('Tracking Dashboard')"
   ]
  },
  {
   "cell_type": "code",
   "execution_count": 4,
   "metadata": {},
   "outputs": [],
   "source": [
    "\n",
    "class region_selection():\n",
    "    def __init__(self, image):\n",
    "        self.number_of_boxes = 2 #Set this to how many square regions you want to select\n",
    "        self.selected_points = []\n",
    "        self.image = image\n",
    "        \n",
    "        for i in range(self.number_of_boxes):\n",
    "            self.selected_points.append([])\n",
    "            \n",
    "        self.fig, ax = plt.subplots()\n",
    "        self.img = ax.imshow(self.image)\n",
    "        self.fig.canvas.mpl_connect('button_press_event', self.click_event)\n",
    "\n",
    "    def draw_rectangle(self, img, pts):\n",
    "        nonempty = []\n",
    "        \n",
    "        for i in range(self.number_of_boxes):\n",
    "            if pts[i] != []:\n",
    "                nonempty.append(pts[i])\n",
    "                \n",
    "        for point in nonempty:\n",
    "            x = (int(point[0][0]), int(point[0][1]))\n",
    "            y = (int(point[1][0]), int(point[1][1]))\n",
    "            cv2.rectangle(img, x, y, (1, 1, 1), 7)\n",
    "        \n",
    "        self.formatted = self.format_points(nonempty)\n",
    "        return img\n",
    "\n",
    "    def format_points(self, badpoints):\n",
    "        boxes = badpoints\n",
    "\n",
    "        for i in range(len(badpoints)):\n",
    "            count = 0\n",
    "            for (xpoint, ypoint) in badpoints[i]:\n",
    "                if (count % 2) == 1:\n",
    "                    boxes[i] = (xprev, yprev, xpoint - xprev, ypoint - yprev)\n",
    "                else:\n",
    "                    xprev = xpoint\n",
    "                    yprev = ypoint\n",
    "                count+=1\n",
    "        return boxes\n",
    "        \n",
    "    def click_event(self, event):\n",
    "        for i in range(self.number_of_boxes):\n",
    "            if len(self.selected_points[i])<2:   \n",
    "                self.selected_points[i].append([event.xdata,event.ydata])\n",
    "                break\n",
    "                \n",
    "        if len(self.selected_points[0])>1:\n",
    "            self.fig\n",
    "            self.img.set_data(self.draw_rectangle(self.image, self.selected_points))\n",
    "            "
   ]
  },
  {
   "cell_type": "code",
   "execution_count": 5,
   "metadata": {},
   "outputs": [
    {
     "data": {
      "application/vnd.jupyter.widget-view+json": {
       "model_id": "9ceb5ced5a5a43abb9894a81a272b437",
       "version_major": 2,
       "version_minor": 0
      },
      "text/plain": [
       "interactive(children=(Dropdown(description='Folders', options=('080819',), value='080819'), Output()), _dom_cl…"
      ]
     },
     "metadata": {},
     "output_type": "display_data"
    }
   ],
   "source": [
    "class fileselection():\n",
    "    def __init__(self):\n",
    "        self.folders = glob.glob('Videos/*')\n",
    "        self.filepath = None\n",
    "        \n",
    "        for i in range(len(self.folders)):\n",
    "            self.folders[i] = self.folders[i].split('/')[1]\n",
    "\n",
    "        display(interactive(self.loadfiles, Folders=self.folders))\n",
    "\n",
    "    def choosevideo(self, Videos):\n",
    "        global videostream, images, bs\n",
    "        self.filepath = Videos\n",
    "        videostream = cv2.VideoCapture(Videos)\n",
    "        images = videostream.read()[1]\n",
    "        self.sel = region_selection(images)\n",
    "\n",
    "    def loadfiles(self, Folders):\n",
    "        files = sorted(glob.glob('Videos/' + Folders + '/*.mp4'))\n",
    "        display(interactive(self.choosevideo, Videos=files))\n",
    "vid = fileselection()"
   ]
  },
  {
   "cell_type": "code",
   "execution_count": 7,
   "metadata": {},
   "outputs": [],
   "source": [
    "#Initalize Trackers\n",
    "\n",
    "\n",
    "OPENCV_OBJECT_TRACKERS = {\n",
    "    \"csrt\": cv2.TrackerCSRT_create,\n",
    "    \"kcf\": cv2.TrackerKCF_create,\n",
    "    \"boosting\": cv2.TrackerBoosting_create,\n",
    "    \"mil\": cv2.TrackerMIL_create,\n",
    "    \"tld\": cv2.TrackerTLD_create,\n",
    "    \"medianflow\": cv2.TrackerMedianFlow_create,\n",
    "    \"mosse\": cv2.TrackerMOSSE_create\n",
    "}\n",
    "\n",
    "trackers = cv2.MultiTracker_create()\n",
    "\n"
   ]
  },
  {
   "cell_type": "code",
   "execution_count": 10,
   "metadata": {},
   "outputs": [
    {
     "ename": "NameError",
     "evalue": "name 'button' is not defined",
     "output_type": "error",
     "traceback": [
      "\u001b[0;31m---------------------------------------------------------------------------\u001b[0m",
      "\u001b[0;31mNameError\u001b[0m                                 Traceback (most recent call last)",
      "\u001b[0;32m<ipython-input-10-a1f2acc5b4cc>\u001b[0m in \u001b[0;36m<module>\u001b[0;34m\u001b[0m\n\u001b[1;32m     83\u001b[0m \u001b[0;34m\u001b[0m\u001b[0m\n\u001b[1;32m     84\u001b[0m \u001b[0;34m\u001b[0m\u001b[0m\n\u001b[0;32m---> 85\u001b[0;31m \u001b[0mdisplay\u001b[0m\u001b[0;34m(\u001b[0m\u001b[0mbutton\u001b[0m\u001b[0;34m)\u001b[0m\u001b[0;34m\u001b[0m\u001b[0;34m\u001b[0m\u001b[0m\n\u001b[0m\u001b[1;32m     86\u001b[0m \u001b[0mbutton\u001b[0m\u001b[0;34m.\u001b[0m\u001b[0mon_click\u001b[0m\u001b[0;34m(\u001b[0m\u001b[0mon_button_clicked\u001b[0m\u001b[0;34m)\u001b[0m\u001b[0;34m\u001b[0m\u001b[0;34m\u001b[0m\u001b[0m\n",
      "\u001b[0;31mNameError\u001b[0m: name 'button' is not defined"
     ]
    }
   ],
   "source": [
    "\n",
    "mybutton = widgets.Button(description=\"nothing\")\n",
    "\n",
    "def on_button_clicked(b):\n",
    "    #box = modifybox(bs.selected_points)\n",
    "    box = vid.sel.formatted\n",
    "    for i in range(len(box)):\n",
    "        tracker = OPENCV_OBJECT_TRACKERS['csrt']()\n",
    "        trackers.add(tracker, images, box[i])\n",
    "    \n",
    "    count = 0\n",
    "    lists = []\n",
    "    xox = []\n",
    "\n",
    "    fig = go.Figure()\n",
    "    trace = fig.add_trace(go.Scatter(x=xox,y=lists)) \n",
    "    while True:\n",
    "        #count = count + 1\n",
    "        print(count)\n",
    "        if count >= 100:\n",
    "            break\n",
    "        image = videostream.read()[1]\n",
    "        if image is None:\n",
    "            break\n",
    "        posts = trackers.update(image)[1]\n",
    "        postcords = []\n",
    "\n",
    "        for post in posts:\n",
    "            print('yeye')\n",
    "            #Used float for more acuracy but rectangle needs int\n",
    "            (x, y, w, h) = [float(i) for i in post]\n",
    "            (rx, ry, rw, rh) = [int(i) for i in (x, y, w, h)]\n",
    "            cv2.rectangle(image, (rx, ry), (rx + rw, ry + rh), (0, 255, 0), 2)\n",
    "            #Populate list for centroid tracking\n",
    "            postcords.append((x, y, x + w, y + h))  \n",
    "\n",
    "\n",
    "        postio = {}\n",
    "\n",
    "        for (i, (x, y, x2, y2)) in enumerate(postcords):\n",
    "                print('here')\n",
    "                centroidX = int((x + x2) / 2.0)\n",
    "                centroidY = int((y + y2) / 2.0)\n",
    "                postio[i] = (centroidX, centroidY)\n",
    "        #print(postio)\n",
    "\n",
    "        for (objectID, centroid) in postio.items():\n",
    "            #print(centroid)\n",
    "            #print('there')\n",
    "            #text = \"{}\".format(objectID)\n",
    "\n",
    "            #cv2.putText(image, text, (centroid[0] - 10, centroid[1] - 10), cv2.FONT_HERSHEY_SIMPLEX, 0.5, (0, 255, 0), 2)\n",
    "            #cv2.circle(image, (centroid[0], centroid[1]), 4, (0, 255, 0), -1)\n",
    "            #plt.imshow(image)\n",
    "\n",
    "            if (objectID % 2) == 0:\n",
    "                    #Save the x position of the even post\n",
    "                    evenX = centroid[0]\n",
    "                    #Save the y position of the even post\n",
    "                    evenY = centroid[1]\n",
    "                    evenID = objectID\n",
    "                    #If objectID is odd it has a pair so do stuff\n",
    "            elif (objectID - 1) == evenID:\n",
    "                    #Calculate tissue number based on object ID\n",
    "                    reltissueID = int((objectID - 1)/2)\n",
    "                    #Save the x position of the odd post\n",
    "                    oddX = centroid[0]\n",
    "                    #Save the y position of the odd post\n",
    "                    oddY = centroid[1]\n",
    "\n",
    "                    disp = np.sqrt(((oddX - evenX)**2) + ((oddY - evenY)**2))\n",
    "                    xox.append(count)\n",
    "                    count = count + 1\n",
    "                    print(count)\n",
    "                    lists.append(disp)\n",
    "            trace.data[0].x = xox\n",
    "            trace.data[0].y = lists\n",
    "        #trace = fig.add_trace(go.Scatter(x=xox,y=lists)) \n",
    "            with output_box:\n",
    "                output_box.clear_output(wait=True)\n",
    "                display(fig)#= fig.add_trace(go.Scatter(x=xox,y=lists)) \n",
    "    \n",
    "    return box\n",
    "\n",
    "\n",
    "display(button)\n",
    "button.on_click(on_button_clicked)"
   ]
  },
  {
   "cell_type": "code",
   "execution_count": 9,
   "metadata": {
    "scrolled": true
   },
   "outputs": [
    {
     "ename": "NameError",
     "evalue": "name 'box' is not defined",
     "output_type": "error",
     "traceback": [
      "\u001b[0;31m---------------------------------------------------------------------------\u001b[0m",
      "\u001b[0;31mNameError\u001b[0m                                 Traceback (most recent call last)",
      "\u001b[0;32m<ipython-input-9-57f26bccce80>\u001b[0m in \u001b[0;36m<module>\u001b[0;34m\u001b[0m\n\u001b[0;32m----> 1\u001b[0;31m \u001b[0mprint\u001b[0m\u001b[0;34m(\u001b[0m\u001b[0mbox\u001b[0m\u001b[0;34m)\u001b[0m\u001b[0;34m\u001b[0m\u001b[0;34m\u001b[0m\u001b[0m\n\u001b[0m",
      "\u001b[0;31mNameError\u001b[0m: name 'box' is not defined"
     ]
    }
   ],
   "source": []
  },
  {
   "cell_type": "code",
   "execution_count": 12,
   "metadata": {},
   "outputs": [
    {
     "data": {
      "application/vnd.jupyter.widget-view+json": {
       "model_id": "0a73e6c3dabf4aaf868d87473ec74068",
       "version_major": 2,
       "version_minor": 0
      },
      "text/plain": [
       "interactive(children=(Checkbox(value=True, description='x'), Output()), _dom_classes=('widget-interact',))"
      ]
     },
     "metadata": {},
     "output_type": "display_data"
    }
   ],
   "source": []
  },
  {
   "cell_type": "code",
   "execution_count": 11,
   "metadata": {},
   "outputs": [
    {
     "data": {
      "application/vnd.jupyter.widget-view+json": {
       "model_id": "311aad1231cf45b3b147b69e35f1a351",
       "version_major": 2,
       "version_minor": 0
      },
      "text/plain": [
       "Output()"
      ]
     },
     "metadata": {},
     "output_type": "display_data"
    }
   ],
   "source": [
    "out = widgets.Output()\n",
    "\n",
    "@out.capture(clear_output=True, wait=True)\n",
    "def function_with_captured_output():\n",
    "    with out:\n",
    "        print('This goes into the output widget')\n",
    "    with out:\n",
    "        print('other')\n",
    "    \n",
    "\n",
    "function_with_captured_output()\n",
    "out"
   ]
  },
  {
   "cell_type": "code",
   "execution_count": null,
   "metadata": {},
   "outputs": [],
   "source": []
  },
  {
   "cell_type": "code",
   "execution_count": null,
   "metadata": {},
   "outputs": [],
   "source": []
  }
 ],
 "metadata": {
  "kernelspec": {
   "display_name": "Python 3",
   "language": "python",
   "name": "python3"
  },
  "language_info": {
   "codemirror_mode": {
    "name": "ipython",
    "version": 3
   },
   "file_extension": ".py",
   "mimetype": "text/x-python",
   "name": "python",
   "nbconvert_exporter": "python",
   "pygments_lexer": "ipython3",
   "version": "3.7.3"
  }
 },
 "nbformat": 4,
 "nbformat_minor": 4
}
