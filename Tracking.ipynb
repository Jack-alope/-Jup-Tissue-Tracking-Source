{
 "cells": [
  {
   "cell_type": "code",
   "execution_count": 1,
   "metadata": {},
   "outputs": [],
   "source": [
    "#Import required liibraries\n",
    "import IPython\n",
    "import matplotlib.pyplot as plt\n",
    "import IPython.display as Disp\n",
    "from ipywidgets import widgets\n",
    "import numpy as np\n",
    "import cv2\n",
    "import plotly.graph_objects as go\n",
    "from ipywidgets import interact, interactive\n",
    "import glob"
   ]
  },
  {
   "cell_type": "code",
   "execution_count": 2,
   "metadata": {},
   "outputs": [
    {
     "data": {
      "application/vnd.jupyter.widget-view+json": {
       "model_id": "9e434d4776a54d0c9cd3bdda24f39402",
       "version_major": 2,
       "version_minor": 0
      },
      "text/plain": [
       "Output()"
      ]
     },
     "metadata": {},
     "output_type": "display_data"
    }
   ],
   "source": [
    "button = widgets.Button(description=\"Start Iterations\")\n",
    "output_box = widgets.Output()\n",
    "display(output_box)"
   ]
  },
  {
   "cell_type": "code",
   "execution_count": 3,
   "metadata": {
    "scrolled": true
   },
   "outputs": [
    {
     "name": "stdout",
     "output_type": "stream",
     "text": [
      "Tracking Dashboard\n"
     ]
    }
   ],
   "source": [
    "print('Tracking Dashboard')"
   ]
  },
  {
   "cell_type": "code",
   "execution_count": 4,
   "metadata": {},
   "outputs": [
    {
     "data": {
      "application/vnd.jupyter.widget-view+json": {
       "model_id": "cb33507821ef4ca5bfe6614168d1efec",
       "version_major": 2,
       "version_minor": 0
      },
      "text/plain": [
       "interactive(children=(Dropdown(description='folder', options=('080819',), value='080819'), Output()), _dom_cla…"
      ]
     },
     "metadata": {},
     "output_type": "display_data"
    }
   ],
   "source": [
    "folders = glob.glob('Videos/*')\n",
    "def loadfiles(folder):\n",
    "    files = sorted(glob.glob('Videos' + folder + '/*.mp4'))\n",
    "    return files\n",
    "\n",
    "def video(files):\n",
    "    huh = 8\n",
    "for i in range(len(folders)):\n",
    "    folders[i] = folders[i].split('/')[1]\n",
    "folderpaths = interactive(loadfiles, folder=folders)\n",
    "display(folderpaths)"
   ]
  },
  {
   "cell_type": "code",
   "execution_count": 7,
   "metadata": {},
   "outputs": [],
   "source": [
    "%matplotlib widget"
   ]
  },
  {
   "cell_type": "code",
   "execution_count": 4,
   "metadata": {},
   "outputs": [],
   "source": [
    "#Initalize Trackers\n",
    "\n",
    "\n",
    "OPENCV_OBJECT_TRACKERS = {\n",
    "    \"csrt\": cv2.TrackerCSRT_create,\n",
    "    \"kcf\": cv2.TrackerKCF_create,\n",
    "    \"boosting\": cv2.TrackerBoosting_create,\n",
    "    \"mil\": cv2.TrackerMIL_create,\n",
    "    \"tld\": cv2.TrackerTLD_create,\n",
    "    \"medianflow\": cv2.TrackerMedianFlow_create,\n",
    "    \"mosse\": cv2.TrackerMOSSE_create\n",
    "}\n",
    "\n",
    "trackers = cv2.MultiTracker_create()\n",
    "\n"
   ]
  },
  {
   "cell_type": "code",
   "execution_count": 5,
   "metadata": {},
   "outputs": [],
   "source": [
    "#Define the mouse input parameters\n",
    "class bbox_select():\n",
    "    #%matplotlib notebook\n",
    "    \n",
    "    def __init__(self,im):\n",
    "        self.tissues = 2\n",
    "        self.im = im\n",
    "        self.clicks = 0\n",
    "        self.selected_points = []\n",
    "        for i in range(self.tissues):\n",
    "            self.selected_points.append([])\n",
    "        self.fig,ax = plt.subplots()\n",
    "        self.img = ax.imshow(self.im.copy())\n",
    "        self.ka = self.fig.canvas.mpl_connect('button_press_event', self.onclick)\n",
    "        disconnect_button = widgets.Button(description=\"Selected Posts\")\n",
    "        Disp.display(disconnect_button)\n",
    "        disconnect_button.on_click(self.disconnect_mpl)\n",
    "\n",
    "    def poly_img(self,img,pts):\n",
    "        for point in pts:\n",
    "            temp = np.array(point, np.int32)\n",
    "            point = temp.reshape((-1,1,2))\n",
    "            cv2.polylines(img,[point],True,(np.random.randint(0,255),np.random.randint(0,255),np.random.randint(0,255)),7)\n",
    "            #cv2.rectangle(img, point[0], point[1])\n",
    "        return img\n",
    "\n",
    "    def onclick(self, event):\n",
    "        for i in range(self.tissues):\n",
    "            if len(self.selected_points[i])<2:   \n",
    "                self.selected_points[i].append([event.xdata,event.ydata])\n",
    "                break\n",
    "                \n",
    "        if len(self.selected_points[0])>1:\n",
    "            self.fig\n",
    "            self.img.set_data(self.poly_img(self.im.copy(),self.selected_points))\n",
    "\n",
    "        \n",
    "    def disconnect_mpl(self,_):\n",
    "        self.fig.canvas.mpl_disconnect(self.ka)"
   ]
  },
  {
   "cell_type": "code",
   "execution_count": 6,
   "metadata": {},
   "outputs": [
    {
     "data": {
      "application/vnd.jupyter.widget-view+json": {
       "model_id": "72622dc0f13d40fcbbacb88a36890c9b",
       "version_major": 2,
       "version_minor": 0
      },
      "text/plain": [
       "Canvas(toolbar=Toolbar(toolitems=[('Home', 'Reset original view', 'home', 'home'), ('Back', 'Back to previous …"
      ]
     },
     "metadata": {},
     "output_type": "display_data"
    },
    {
     "data": {
      "application/vnd.jupyter.widget-view+json": {
       "model_id": "c4fa7a446bb14e1e8443aea55b0412ec",
       "version_major": 2,
       "version_minor": 0
      },
      "text/plain": [
       "Button(description='Selected Posts', style=ButtonStyle())"
      ]
     },
     "metadata": {},
     "output_type": "display_data"
    }
   ],
   "source": [
    "#Import the video and call the mouse input function\n",
    "videostream = cv2.VideoCapture('Videos/080819/video.mp4')\n",
    "global images\n",
    "images = videostream.read()[1]\n",
    "bs = bbox_select(images)"
   ]
  },
  {
   "cell_type": "code",
   "execution_count": 7,
   "metadata": {},
   "outputs": [],
   "source": [
    "def modifybox(badpoints):\n",
    "    boxes = badpoints\n",
    "\n",
    "    for i in range(len(badpoints)):\n",
    "        count = 0\n",
    "        for (xpoint, ypoint) in badpoints[i]:\n",
    "            if (count % 2) == 1:\n",
    "                boxes[i] = (xprev, yprev, xpoint - xprev, ypoint - yprev)\n",
    "            else:\n",
    "                xprev = xpoint\n",
    "                yprev = ypoint\n",
    "            count+=1\n",
    "    return boxes\n",
    "#box = modifybox(bs.selected_points)"
   ]
  },
  {
   "cell_type": "code",
   "execution_count": 8,
   "metadata": {},
   "outputs": [
    {
     "ename": "SyntaxError",
     "evalue": "'return' outside function (<ipython-input-8-b62039deb8a6>, line 82)",
     "output_type": "error",
     "traceback": [
      "\u001b[0;36m  File \u001b[0;32m\"<ipython-input-8-b62039deb8a6>\"\u001b[0;36m, line \u001b[0;32m82\u001b[0m\n\u001b[0;31m    return box\u001b[0m\n\u001b[0m              ^\u001b[0m\n\u001b[0;31mSyntaxError\u001b[0m\u001b[0;31m:\u001b[0m 'return' outside function\n"
     ]
    }
   ],
   "source": [
    "\n",
    "mybutton = widgets.Button(description=\"nothing\")\n",
    "\n",
    "def on_button_clicked(b):\n",
    "    box = modifybox(bs.selected_points)\n",
    "    \n",
    "    for i in range(len(box)):\n",
    "        tracker = OPENCV_OBJECT_TRACKERS['csrt']()\n",
    "        trackers.add(tracker, images, box[i])\n",
    "    \n",
    "    count = 0\n",
    "    lists = []\n",
    "    xox = []\n",
    "\n",
    "    fig = go.Figure()\n",
    "    trace = fig.add_trace(go.Scatter(x=xox,y=lists)) \n",
    "    while True:\n",
    "        #count = count + 1\n",
    "        print(count)\n",
    "        if count >= 100:\n",
    "            break\n",
    "        image = videostream.read()[1]\n",
    "        if image is None:\n",
    "            break\n",
    "        posts = trackers.update(image)[1]\n",
    "        postcords = []\n",
    "\n",
    "        for post in posts:\n",
    "            print('yeye')\n",
    "            #Used float for more acuracy but rectangle needs int\n",
    "            (x, y, w, h) = [float(i) for i in post]\n",
    "            (rx, ry, rw, rh) = [int(i) for i in (x, y, w, h)]\n",
    "            cv2.rectangle(image, (rx, ry), (rx + rw, ry + rh), (0, 255, 0), 2)\n",
    "            #Populate list for centroid tracking\n",
    "            postcords.append((x, y, x + w, y + h))  \n",
    "\n",
    "\n",
    "        postio = {}\n",
    "\n",
    "        for (i, (x, y, x2, y2)) in enumerate(postcords):\n",
    "                print('here')\n",
    "                centroidX = int((x + x2) / 2.0)\n",
    "                centroidY = int((y + y2) / 2.0)\n",
    "                postio[i] = (centroidX, centroidY)\n",
    "        #print(postio)\n",
    "\n",
    "        for (objectID, centroid) in postio.items():\n",
    "            #print(centroid)\n",
    "            #print('there')\n",
    "            #text = \"{}\".format(objectID)\n",
    "\n",
    "            #cv2.putText(image, text, (centroid[0] - 10, centroid[1] - 10), cv2.FONT_HERSHEY_SIMPLEX, 0.5, (0, 255, 0), 2)\n",
    "            #cv2.circle(image, (centroid[0], centroid[1]), 4, (0, 255, 0), -1)\n",
    "            #plt.imshow(image)\n",
    "\n",
    "            if (objectID % 2) == 0:\n",
    "                    #Save the x position of the even post\n",
    "                    evenX = centroid[0]\n",
    "                    #Save the y position of the even post\n",
    "                    evenY = centroid[1]\n",
    "                    evenID = objectID\n",
    "                    #If objectID is odd it has a pair so do stuff\n",
    "            elif (objectID - 1) == evenID:\n",
    "                    #Calculate tissue number based on object ID\n",
    "                    reltissueID = int((objectID - 1)/2)\n",
    "                    #Save the x position of the odd post\n",
    "                    oddX = centroid[0]\n",
    "                    #Save the y position of the odd post\n",
    "                    oddY = centroid[1]\n",
    "\n",
    "                    disp = np.sqrt(((oddX - evenX)**2) + ((oddY - evenY)**2))\n",
    "                    xox.append(count)\n",
    "                    count = count + 1\n",
    "                    print(count)\n",
    "                    lists.append(disp)\n",
    "            trace.data[0].x = xox\n",
    "            trace.data[0].y = lists\n",
    "        #trace = fig.add_trace(go.Scatter(x=xox,y=lists)) \n",
    "            with output_box:\n",
    "                output_box.clear_output(wait=True)\n",
    "                display(fig)#= fig.add_trace(go.Scatter(x=xox,y=lists)) \n",
    "    \n",
    "    return box\n",
    "\n",
    "\n",
    "display(button)\n",
    "button.on_click(on_button_clicked)"
   ]
  },
  {
   "cell_type": "code",
   "execution_count": 9,
   "metadata": {
    "scrolled": true
   },
   "outputs": [
    {
     "ename": "NameError",
     "evalue": "name 'box' is not defined",
     "output_type": "error",
     "traceback": [
      "\u001b[0;31m---------------------------------------------------------------------------\u001b[0m",
      "\u001b[0;31mNameError\u001b[0m                                 Traceback (most recent call last)",
      "\u001b[0;32m<ipython-input-9-57f26bccce80>\u001b[0m in \u001b[0;36m<module>\u001b[0;34m\u001b[0m\n\u001b[0;32m----> 1\u001b[0;31m \u001b[0mprint\u001b[0m\u001b[0;34m(\u001b[0m\u001b[0mbox\u001b[0m\u001b[0;34m)\u001b[0m\u001b[0;34m\u001b[0m\u001b[0;34m\u001b[0m\u001b[0m\n\u001b[0m",
      "\u001b[0;31mNameError\u001b[0m: name 'box' is not defined"
     ]
    }
   ],
   "source": []
  },
  {
   "cell_type": "code",
   "execution_count": 12,
   "metadata": {},
   "outputs": [
    {
     "data": {
      "application/vnd.jupyter.widget-view+json": {
       "model_id": "0a73e6c3dabf4aaf868d87473ec74068",
       "version_major": 2,
       "version_minor": 0
      },
      "text/plain": [
       "interactive(children=(Checkbox(value=True, description='x'), Output()), _dom_classes=('widget-interact',))"
      ]
     },
     "metadata": {},
     "output_type": "display_data"
    }
   ],
   "source": []
  },
  {
   "cell_type": "code",
   "execution_count": 11,
   "metadata": {},
   "outputs": [
    {
     "data": {
      "application/vnd.jupyter.widget-view+json": {
       "model_id": "311aad1231cf45b3b147b69e35f1a351",
       "version_major": 2,
       "version_minor": 0
      },
      "text/plain": [
       "Output()"
      ]
     },
     "metadata": {},
     "output_type": "display_data"
    }
   ],
   "source": [
    "out = widgets.Output()\n",
    "\n",
    "@out.capture(clear_output=True, wait=True)\n",
    "def function_with_captured_output():\n",
    "    with out:\n",
    "        print('This goes into the output widget')\n",
    "    with out:\n",
    "        print('other')\n",
    "    \n",
    "\n",
    "function_with_captured_output()\n",
    "out"
   ]
  },
  {
   "cell_type": "code",
   "execution_count": null,
   "metadata": {},
   "outputs": [],
   "source": []
  },
  {
   "cell_type": "code",
   "execution_count": null,
   "metadata": {},
   "outputs": [],
   "source": []
  }
 ],
 "metadata": {
  "kernelspec": {
   "display_name": "Python 3",
   "language": "python",
   "name": "python3"
  },
  "language_info": {
   "codemirror_mode": {
    "name": "ipython",
    "version": 3
   },
   "file_extension": ".py",
   "mimetype": "text/x-python",
   "name": "python",
   "nbconvert_exporter": "python",
   "pygments_lexer": "ipython3",
   "version": "3.7.3"
  }
 },
 "nbformat": 4,
 "nbformat_minor": 4
}
