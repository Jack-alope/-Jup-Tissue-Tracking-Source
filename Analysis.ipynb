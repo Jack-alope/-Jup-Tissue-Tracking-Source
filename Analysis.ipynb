{
 "cells": [
  {
   "cell_type": "code",
   "execution_count": 1,
   "metadata": {},
   "outputs": [
    {
     "name": "stdout",
     "output_type": "stream",
     "text": [
      "Analysis Dashboard\n"
     ]
    }
   ],
   "source": [
    "print('Analysis Dashboard')"
   ]
  },
  {
   "cell_type": "code",
   "execution_count": 2,
   "metadata": {},
   "outputs": [],
   "source": [
    "from ipywidgets import interact, interactive, widgets, interact_manual\n",
    "import glob\n",
    "import pandas as pd\n",
    "import plotly.graph_objects as go\n",
    "\n",
    "\n",
    "from scipy.signal import savgol_filter\n",
    "import peakutils\n",
    "\n",
    "from ipyfilechooser import FileChooser"
   ]
  },
  {
   "cell_type": "code",
   "execution_count": 4,
   "metadata": {},
   "outputs": [
    {
     "data": {
      "application/vnd.jupyter.widget-view+json": {
       "model_id": "0176fdf9489241eb91e4057b35652870",
       "version_major": 2,
       "version_minor": 0
      },
      "text/plain": [
       "FileChooser(path='/srv/scratch', filename='', show_hidden='False')"
      ]
     },
     "metadata": {},
     "output_type": "display_data"
    },
    {
     "name": "stdout",
     "output_type": "stream",
     "text": [
      "ahai\n"
     ]
    }
   ],
   "source": [
    "class fileselection():\n",
    "    def __init__(self):\n",
    "        fc = FileChooser('/srv/scratch/')\n",
    "        display(fc)\n",
    "\n",
    "        fc.use_dir_icons = True\n",
    "        fc.title = '<b>Choose Folder</b>'\n",
    "        fc.register_callback(self.change_title)\n",
    "    def change_title(self, chooser):\n",
    "        chooser.title = '<b>Callback function executed</b>'\n",
    "        print('ahai')\n",
    "\n",
    "    # Register callback function\n",
    "vid = fileselection()"
   ]
  },
  {
   "cell_type": "code",
   "execution_count": null,
   "metadata": {},
   "outputs": [],
   "source": [
    "%%html\n",
    "<a href=\"https://costa.jack.engineering/user/jack/tree/scratch\" target=_blank>Files</a>"
   ]
  },
  {
   "cell_type": "code",
   "execution_count": 3,
   "metadata": {},
   "outputs": [
    {
     "data": {
      "application/vnd.jupyter.widget-view+json": {
       "model_id": "715c8a7f8a75417aac8b6579a0a8dba7",
       "version_major": 2,
       "version_minor": 0
      },
      "text/plain": [
       "interactive(children=(Dropdown(description='Folders', options=('Untitled Folder',), value='Untitled Folder'), …"
      ]
     },
     "metadata": {},
     "output_type": "display_data"
    }
   ],
   "source": [
    "\n",
    "\n",
    "class fileselection():\n",
    "    def __init__(self):\n",
    "        self.folders = glob.glob('Data/tracking_generated/*')\n",
    "        self.filepath = None\n",
    "        \n",
    "        for i in range(len(self.folders)):\n",
    "            self.folders[i] = self.folders[i].split('/')[2]\n",
    "\n",
    "        display(interactive(self.loadfiles, Folders=self.folders))\n",
    "\n",
    "    def choosevideo(self, Data):\n",
    "        global dataframe, origin\n",
    "        self.filepath = Data\n",
    "        self.dataframe = self.origin = pd.read_csv(Data)\n",
    "        #print(self.origin)\n",
    "\n",
    "    def loadfiles(self, Folders):\n",
    "        files = sorted(glob.glob('Data/tracking_generated/' + Folders + '/*.csv'))\n",
    "        display(interactive(self.choosevideo, Data=files))\n",
    "vid = fileselection()"
   ]
  },
  {
   "cell_type": "code",
   "execution_count": 4,
   "metadata": {},
   "outputs": [],
   "source": [
    "\n",
    "def plot(thresh, peakdist, buffer, polynomial, window):\n",
    "    peaks = []\n",
    "    basepoints = []\n",
    "    data = abs(vid.origin)\n",
    "    data['disp'] = savgol_filter(vid.origin['disp'], window, polynomial)\n",
    "    data['disp'] = data['disp'] * -1\n",
    "    peaks.append(peakutils.indexes(data['disp'], thresh, peakdist))\n",
    "    peaks[0] = peaks[0][1:-1]\n",
    "    basepoints.append([])\n",
    "    for peak in peaks[0]:\n",
    "        for k in range(peak - buffer, 1, -1):\n",
    "            dfdt = (data['disp'][k] - data['disp'][k - 1])\n",
    "            if dfdt<=0:\n",
    "                basepoints[0].append(k)\n",
    "                break\n",
    "\n",
    "    fig = go.Figure()\n",
    "    fig.add_trace(go.Scatter(x=data['time'],y=data['disp'])) \n",
    "    fig.add_trace(go.Scatter(x=data['time'][peaks[0]], y=data['disp'][peaks[0]], mode = 'markers'))\n",
    "    fig.add_trace(go.Scatter(x=data['time'][basepoints[0]], y=data['disp'][basepoints[0]], mode = 'markers'))\n",
    "    fig.show()\n"
   ]
  },
  {
   "cell_type": "code",
   "execution_count": 5,
   "metadata": {},
   "outputs": [
    {
     "data": {
      "application/vnd.jupyter.widget-view+json": {
       "model_id": "0375b68b9b254e65907c113055df51e6",
       "version_major": 2,
       "version_minor": 0
      },
      "text/plain": [
       "interactive(children=(FloatSlider(value=0.6, description='thres', max=1.0), IntSlider(value=10, description='p…"
      ]
     },
     "metadata": {},
     "output_type": "display_data"
    }
   ],
   "source": [
    "@interact(thres = (0, 1, .1), peakdist = (0, 30), buffer = (0, 20), poly = (1, 16), window = (9, 31, 2))\n",
    "def paramaterization(thres = .6, peakdist = 10, buffer = 5, poly = 3, window = 13):\n",
    "    plot(thres, peakdist, buffer, poly, window)\n",
    "    #return (x, y, z, k, c)"
   ]
  },
  {
   "cell_type": "code",
   "execution_count": 7,
   "metadata": {},
   "outputs": [
    {
     "data": {
      "application/vnd.jupyter.widget-view+json": {
       "model_id": "9bdeb4855acc48dfbaa679914c980cae",
       "version_major": 2,
       "version_minor": 0
      },
      "text/plain": [
       "interactive(children=(Button(description='Run Interact', style=ButtonStyle()), Output()), _dom_classes=('widge…"
      ]
     },
     "metadata": {},
     "output_type": "display_data"
    },
    {
     "data": {
      "application/vnd.jupyter.widget-view+json": {
       "model_id": "67620cdc882b4f0aaa3e28150e220399",
       "version_major": 2,
       "version_minor": 0
      },
      "text/plain": [
       "interactive(children=(IntSlider(value=3, description='Polynomial', max=16, min=1), IntSlider(value=13, descrip…"
      ]
     },
     "metadata": {},
     "output_type": "display_data"
    },
    {
     "data": {
      "application/vnd.jupyter.widget-view+json": {
       "model_id": "2f6d83fc9179461c8030c9cf7d5feeb6",
       "version_major": 2,
       "version_minor": 0
      },
      "text/plain": [
       "interactive(children=(FloatSlider(value=0.6, description='Thresh', max=1.0), IntSlider(value=10, description='…"
      ]
     },
     "metadata": {},
     "output_type": "display_data"
    },
    {
     "data": {
      "text/plain": [
       "<function ipywidgets.widgets.interaction._InteractFactory.__call__.<locals>.<lambda>(*args, **kwargs)>"
      ]
     },
     "metadata": {},
     "output_type": "display_data"
    }
   ],
   "source": []
  },
  {
   "cell_type": "code",
   "execution_count": 9,
   "metadata": {},
   "outputs": [
    {
     "ename": "TypeError",
     "evalue": "__init__() got an unexpected keyword argument 'x'",
     "output_type": "error",
     "traceback": [
      "\u001b[0;31m---------------------------------------------------------------------------\u001b[0m",
      "\u001b[0;31mTypeError\u001b[0m                                 Traceback (most recent call last)",
      "\u001b[0;32m<ipython-input-9-0abdf89669c0>\u001b[0m in \u001b[0;36m<module>\u001b[0;34m\u001b[0m\n\u001b[0;32m----> 1\u001b[0;31m \u001b[0;34m@\u001b[0m\u001b[0minteract\u001b[0m\u001b[0;34m(\u001b[0m\u001b[0mx\u001b[0m\u001b[0;34m=\u001b[0m\u001b[0;32mTrue\u001b[0m\u001b[0;34m,\u001b[0m \u001b[0my\u001b[0m\u001b[0;34m=\u001b[0m\u001b[0;36m1.0\u001b[0m\u001b[0;34m)\u001b[0m\u001b[0;34m\u001b[0m\u001b[0;34m\u001b[0m\u001b[0m\n\u001b[0m\u001b[1;32m      2\u001b[0m \u001b[0;32mdef\u001b[0m \u001b[0mg\u001b[0m\u001b[0;34m(\u001b[0m\u001b[0mx\u001b[0m\u001b[0;34m,\u001b[0m \u001b[0my\u001b[0m\u001b[0;34m)\u001b[0m\u001b[0;34m:\u001b[0m\u001b[0;34m\u001b[0m\u001b[0;34m\u001b[0m\u001b[0m\n\u001b[1;32m      3\u001b[0m     \u001b[0;32mreturn\u001b[0m \u001b[0;34m(\u001b[0m\u001b[0mx\u001b[0m\u001b[0;34m,\u001b[0m \u001b[0my\u001b[0m\u001b[0;34m)\u001b[0m\u001b[0;34m\u001b[0m\u001b[0;34m\u001b[0m\u001b[0m\n",
      "\u001b[0;31mTypeError\u001b[0m: __init__() got an unexpected keyword argument 'x'"
     ]
    }
   ],
   "source": []
  },
  {
   "cell_type": "code",
   "execution_count": null,
   "metadata": {},
   "outputs": [],
   "source": []
  }
 ],
 "metadata": {
  "kernelspec": {
   "display_name": "Python 3",
   "language": "python",
   "name": "python3"
  },
  "language_info": {
   "codemirror_mode": {
    "name": "ipython",
    "version": 3
   },
   "file_extension": ".py",
   "mimetype": "text/x-python",
   "name": "python",
   "nbconvert_exporter": "python",
   "pygments_lexer": "ipython3",
   "version": "3.7.3"
  }
 },
 "nbformat": 4,
 "nbformat_minor": 4
}
