{
 "cells": [
  {
   "cell_type": "code",
   "execution_count": 1,
   "metadata": {},
   "outputs": [
    {
     "name": "stdout",
     "output_type": "stream",
     "text": [
      "Analysis Dashboard\n"
     ]
    }
   ],
   "source": [
    "print('Analysis Dashbdddddoard')"
   ]
  },
  {
   "cell_type": "code",
   "execution_count": 2,
   "metadata": {},
   "outputs": [],
   "source": [
    "from ipywidgets import interact, interactive, widgets, interact_manual\n",
    "import glob\n",
    "import pandas as pd\n",
    "import plotly.graph_objects as go\n",
    "\n",
    "from scipy.signal import savgol_filter\n",
    "import peakutils\n",
    "\n",
    "from ipyfilechooser import FileChooser\n",
    "%matplotlib widget"
   ]
  },
  {
   "cell_type": "code",
   "execution_count": 3,
   "metadata": {},
   "outputs": [],
   "source": [
    "def plot(thresh, peakdist, buffer, polynomial, window):\n",
    "    peaks = []\n",
    "    basepoints = []\n",
    "    frontpoints = []\n",
    "    \n",
    "    for i in range(0, len(vid.origin)):\n",
    "        vid.dataframe[i]['disp'] = savgol_filter(vid.origin[i]['disp'], window, polynomial)\n",
    "        vid.dataframe[i]['disp'] = vid.dataframe[i]['disp'] * -1\n",
    "        peaks.append(peakutils.indexes(vid.dataframe[i]['disp'], thresh, peakdist))\n",
    "        peaks[i] = peaks[i][1:-1]\n",
    "        basepoints.append([])\n",
    "        frontpoints.append([])\n",
    "        for peak in peaks[i]:\n",
    "            for k in range(peak - buffer, 1, -1):\n",
    "                dfdt = (vid.dataframe[i]['disp'][k] - vid.dataframe[i]['disp'][k - 1])\n",
    "                if dfdt<=0:\n",
    "                    basepoints[i].append(k)\n",
    "                    break\n",
    "            for k in range(peak + buffer, 1000, 1):\n",
    "                dfdt = (vid.dataframe[i]['disp'][k + 1] - vid.dataframe[i]['disp'][k])\n",
    "                if dfdt>=0:\n",
    "                    frontpoints[i].append(k)\n",
    "                    break\n",
    "        fig = go.Figure()\n",
    "        fig.add_trace(go.Scatter(x=vid.dataframe[i]['time'],y=vid.dataframe[i]['disp'], name = 'Smooth Data')) \n",
    "        fig.add_trace(go.Scatter(x=vid.dataframe[i]['time'][peaks[i]], y=vid.dataframe[i]['disp'][peaks[i]], mode = 'markers', name = 'Peaks'))\n",
    "        fig.add_trace(go.Scatter(x=vid.dataframe[i]['time'][basepoints[i]], y=vid.dataframe[i]['disp'][basepoints[i]], mode = 'markers', name = 'Basepoints'))\n",
    "        fig.add_trace(go.Scatter(x=vid.dataframe[i]['time'][frontpoints[i]], y=vid.dataframe[i]['disp'][frontpoints[i]], mode = 'markers', name = 'Frontpoints'))\n",
    "        fig.show()\n"
   ]
  },
  {
   "cell_type": "code",
   "execution_count": 4,
   "metadata": {},
   "outputs": [
    {
     "data": {
      "application/vnd.jupyter.widget-view+json": {
       "model_id": "906b80ca1c304800acce31cb14b8d51c",
       "version_major": 2,
       "version_minor": 0
      },
      "text/plain": [
       "FileChooser(path='/srv/scratch/Data/tracking_generated', filename='', show_hidden='False')"
      ]
     },
     "metadata": {},
     "output_type": "display_data"
    },
    {
     "name": "stdout",
     "output_type": "stream",
     "text": [
      "0\n",
      "1\n",
      "2\n"
     ]
    }
   ],
   "source": [
    "class fileselection():\n",
    "    def __init__(self):\n",
    "        self.fc = FileChooser('/srv/scratch/Data/tracking_generated/')\n",
    "        display(self.fc)\n",
    "\n",
    "        self.fc.use_dir_icons = True\n",
    "        self.fc.title = '<b>Choose Folder</b>'\n",
    "        self.fc.register_callback(self.folderselected)\n",
    "        \n",
    "    def folderselected(self, chooser):\n",
    "        self.dataframe = []\n",
    "        self.origin = []\n",
    "        files = glob.glob(self.fc.selected_path + '/*')\n",
    "        for i in range(len(files)):\n",
    "            self.dataframe.append([])\n",
    "            self.origin.append([])\n",
    "            self.dataframe[i] =  pd.read_csv(files[i])\n",
    "            self.origin[i] = pd.read_csv(files[i])\n",
    "            print(i)\n",
    "        print(len(vid.origin))\n",
    "        #self.paramaterization(.6, 10, 5, 3, 13)\n",
    "vid = fileselection()\n"
   ]
  },
  {
   "cell_type": "code",
   "execution_count": 6,
   "metadata": {
    "scrolled": true
   },
   "outputs": [
    {
     "data": {
      "application/vnd.jupyter.widget-view+json": {
       "model_id": "37deeaeb361a453caf1d8515a2923d95",
       "version_major": 2,
       "version_minor": 0
      },
      "text/plain": [
       "interactive(children=(FloatSlider(value=0.6, description='thres', max=1.0), IntSlider(value=10, description='p…"
      ]
     },
     "metadata": {},
     "output_type": "display_data"
    }
   ],
   "source": [
    "@interact(thres = (0, 1, .1), peakdist = (0, 30), buffer = (0, 20), poly = (1, 16), window = (9, 31, 2))\n",
    "def paramaterization(thres = .6, peakdist = 10, buffer = 5, poly = 3, window = 13):\n",
    "    if vid.fc.selected_path is not None:\n",
    "        plot(thres, peakdist, buffer, poly, window)\n",
    "        "
   ]
  },
  {
   "cell_type": "code",
   "execution_count": null,
   "metadata": {},
   "outputs": [],
   "source": []
  },
  {
   "cell_type": "code",
   "execution_count": null,
   "metadata": {},
   "outputs": [],
   "source": []
  },
  {
   "cell_type": "code",
   "execution_count": null,
   "metadata": {},
   "outputs": [],
   "source": []
  },
  {
   "cell_type": "code",
   "execution_count": null,
   "metadata": {},
   "outputs": [],
   "source": []
  },
  {
   "cell_type": "code",
   "execution_count": null,
   "metadata": {},
   "outputs": [],
   "source": []
  },
  {
   "cell_type": "code",
   "execution_count": null,
   "metadata": {},
   "outputs": [],
   "source": []
  },
  {
   "cell_type": "code",
   "execution_count": null,
   "metadata": {},
   "outputs": [],
   "source": []
  }
 ],
 "metadata": {
  "kernelspec": {
   "display_name": "Python 3",
   "language": "python",
   "name": "python3"
  },
  "language_info": {
   "codemirror_mode": {
    "name": "ipython",
    "version": 3
   },
   "file_extension": ".py",
   "mimetype": "text/x-python",
   "name": "python",
   "nbconvert_exporter": "python",
   "pygments_lexer": "ipython3",
   "version": "3.7.3"
  }
 },
 "nbformat": 4,
 "nbformat_minor": 4
}
