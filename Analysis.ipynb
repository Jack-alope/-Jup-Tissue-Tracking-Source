{
 "cells": [
  {
   "cell_type": "code",
   "execution_count": 1,
   "metadata": {},
   "outputs": [
    {
     "name": "stdout",
     "output_type": "stream",
     "text": [
      "Analysis Dashboard\n"
     ]
    }
   ],
   "source": [
    "print('Analysis Dashboard')"
   ]
  },
  {
   "cell_type": "code",
   "execution_count": 2,
   "metadata": {},
   "outputs": [],
   "source": [
    "from ipywidgets import interact, interactive, widgets, interact_manual\n",
    "import glob\n",
    "import pandas as pd\n",
    "import plotly.graph_objects as go\n",
    "\n",
    "from scipy.signal import savgol_filter\n",
    "import peakutils\n",
    "\n",
    "from ipyfilechooser import FileChooser\n",
    "%matplotlib widget"
   ]
  },
  {
   "cell_type": "code",
   "execution_count": 3,
   "metadata": {},
   "outputs": [],
   "source": [
    "def plot(thresh, peakdist, buffer, polynomial, window):\n",
    "    peaks = []\n",
    "    basepoints = []\n",
    "    #data = abs(vid.origin)\n",
    "    print(len(vid.origin))\n",
    "    \n",
    "    for i in range(0, len(vid.origin)):\n",
    "        vid.dataframe[i]['disp'] = savgol_filter(vid.origin[i]['disp'], window, polynomial)\n",
    "        vid.dataframe[i]['disp'] = vid.dataframe[i]['disp'] * -1\n",
    "        peaks.append(peakutils.indexes(vid.dataframe[i]['disp'], thresh, peakdist))\n",
    "        peaks[i] = peaks[i][1:-1]\n",
    "        basepoints.append([])\n",
    "        for peak in peaks[i]:\n",
    "            for k in range(peak - buffer, 1, -1):\n",
    "                dfdt = (vid.dataframe[i]['disp'][k] - vid.dataframe[i]['disp'][k - 1])\n",
    "                if dfdt<=0:\n",
    "                    basepoints[i].append(k)\n",
    "                    break\n",
    "        fig = go.Figure()\n",
    "        fig.add_trace(go.Scatter(x=vid.dataframe[i]['time'],y=vid.dataframe[i]['disp'])) \n",
    "        fig.add_trace(go.Scatter(x=vid.dataframe[i]['time'][peaks[0]], y=vid.dataframe[i]['disp'][peaks[0]], mode = 'markers'))\n",
    "        fig.add_trace(go.Scatter(x=vid.dataframe[i]['time'][basepoints[0]], y=vid.dataframe[i]['disp'][basepoints[0]], mode = 'markers'))\n",
    "        fig.show()\n"
   ]
  },
  {
   "cell_type": "code",
   "execution_count": 4,
   "metadata": {},
   "outputs": [
    {
     "data": {
      "application/vnd.jupyter.widget-view+json": {
       "model_id": "5dae602969f4405aa08d318567e8446a",
       "version_major": 2,
       "version_minor": 0
      },
      "text/plain": [
       "FileChooser(path='/srv/scratch/Data/tracking_generated', filename='', show_hidden='False')"
      ]
     },
     "metadata": {},
     "output_type": "display_data"
    }
   ],
   "source": [
    "class fileselection():\n",
    "    def __init__(self):\n",
    "        self.fc = FileChooser('/srv/scratch/Data/tracking_generated/')\n",
    "        display(self.fc)\n",
    "\n",
    "        self.fc.use_dir_icons = True\n",
    "        self.fc.title = '<b>Choose Folder</b>'\n",
    "        self.fc.register_callback(self.folderselected)\n",
    "        \n",
    "    def folderselected(self, chooser):\n",
    "        display('asasa')\n",
    "        self.dataframe = []\n",
    "        self.origin = []\n",
    "        files = glob.glob(self.fc.selected_path + '/*')\n",
    "        print('aaaaaaaaa')\n",
    "        for i in range(len(files)):\n",
    "            self.dataframe.append([])\n",
    "            self.origin.append([])\n",
    "            self.dataframe[i] =  pd.read_csv(files[i])\n",
    "            self.origin[i] = pd.read_csv(files[i])\n",
    "            print(i)\n",
    "        print(len(vid.origin))\n",
    "        #self.paramaterization(.6, 10, 5, 3, 13)\n",
    "vid = fileselection()\n"
   ]
  },
  {
   "cell_type": "code",
   "execution_count": 5,
   "metadata": {
    "scrolled": true
   },
   "outputs": [
    {
     "data": {
      "application/vnd.jupyter.widget-view+json": {
       "model_id": "6b674003f23145e8835743d93ab624f4",
       "version_major": 2,
       "version_minor": 0
      },
      "text/plain": [
       "interactive(children=(FloatSlider(value=0.6, description='thres', max=1.0), IntSlider(value=10, description='p…"
      ]
     },
     "metadata": {},
     "output_type": "display_data"
    }
   ],
   "source": [
    "@interact(thres = (0, 1, .1), peakdist = (0, 30), buffer = (0, 20), poly = (1, 16), window = (9, 31, 2))\n",
    "def paramaterization(thres = .6, peakdist = 10, buffer = 5, poly = 3, window = 13):\n",
    "    if vid.fc.selected_path is not None:\n",
    "        plot(thres, peakdist, buffer, poly, window)\n",
    "        "
   ]
  },
  {
   "cell_type": "code",
   "execution_count": 6,
   "metadata": {},
   "outputs": [],
   "source": [
    "\n",
    "    #print(len(vid.origin))"
   ]
  },
  {
   "cell_type": "code",
   "execution_count": 7,
   "metadata": {},
   "outputs": [
    {
     "data": {
      "text/html": [
       "<a href=\"https://costa.jack.engineering/user/jack/tree/scratch\" target=_blank>Files</a>\n"
      ],
      "text/plain": [
       "<IPython.core.display.HTML object>"
      ]
     },
     "metadata": {},
     "output_type": "display_data"
    }
   ],
   "source": [
    "%%html\n",
    "<a href=\"https://costa.jack.engineering/user/jack/tree/scratch\" target=_blank>Files</a>"
   ]
  },
  {
   "cell_type": "code",
   "execution_count": 7,
   "metadata": {},
   "outputs": [],
   "source": [
    "#class fileselection():\n",
    "#    def __init__(self):\n",
    "#        self.folders = glob.glob('Data/tracking_generated/*')\n",
    "#        self.filepath = None\n",
    "#        \n",
    "#        for i in range(len(self.folders)):\n",
    "#            self.folders[i] = self.folders[i].split('/')[2]\n",
    "\n",
    "#        display(interactive(self.loadfiles, Folders=self.folders))\n",
    "\n",
    "#    def choosevideo(self, Data):\n",
    "#        global dataframe, origin\n",
    "#        self.filepath = Data\n",
    "#        self.dataframe = self.origin = pd.read_csv(Data)\n",
    "#        #print(self.origin)\n",
    "#\n",
    "#\n",
    "#    def loadfiles(self, Folders):\n",
    "#        files = sorted(glob.glob('Data/tracking_generated/' + Folders + '/*.csv'))\n",
    "#        display(interactive(self.choosevideo, Data=files))\n",
    "#vid = fileselection()"
   ]
  },
  {
   "cell_type": "code",
   "execution_count": null,
   "metadata": {},
   "outputs": [],
   "source": [
    "#def folderselected(chooser):\n",
    "#    display('asasa')\n",
    "##    dataframe = []\n",
    " #   origin = []\n",
    " #   files = glob.glob(chooser.selected_path + '/*')\n",
    " #   print('aaaaaaaaa')\n",
    " #   for i in range(len(files)):\n",
    " #       dataframe.append([])\n",
    " ##       origin.append([])\n",
    "  #      dataframe[i] =  pd.read_csv(files[i])\n",
    "  #      origin[i] = pd.read_csv(files[i])\n",
    "  #      print(i)\n",
    "        \n",
    "#@interact(thres = (0, 1, .1), peakdist = (0, 30), buffer = (0, 20), poly = (1, 16), window = (9, 31, 2))\n",
    "#def someething(thres = .6, peakdist = 10, buffer = 5, poly = 3, window = 13):\n",
    "#    fc = FileChooser('/srv/scratch/Data/tracking_generated/')\n",
    "#    display(fc)#\n",
    "#\n",
    "\n",
    "  #  fc.use_dir_icons = True\n",
    "  #  fc.title = '<b>Choose Folder</b>'\n",
    "  #  fc.register_callback(folderselected) \n",
    "  #  if fc.selected_path is not None:\n",
    "  #          plot(thres, peakdist, buffer, poly, window)\n"
   ]
  },
  {
   "cell_type": "code",
   "execution_count": null,
   "metadata": {},
   "outputs": [],
   "source": []
  },
  {
   "cell_type": "code",
   "execution_count": null,
   "metadata": {},
   "outputs": [],
   "source": []
  },
  {
   "cell_type": "code",
   "execution_count": null,
   "metadata": {},
   "outputs": [],
   "source": []
  }
 ],
 "metadata": {
  "kernelspec": {
   "display_name": "Python 3",
   "language": "python",
   "name": "python3"
  },
  "language_info": {
   "codemirror_mode": {
    "name": "ipython",
    "version": 3
   },
   "file_extension": ".py",
   "mimetype": "text/x-python",
   "name": "python",
   "nbconvert_exporter": "python",
   "pygments_lexer": "ipython3",
   "version": "3.7.3"
  }
 },
 "nbformat": 4,
 "nbformat_minor": 4
}
